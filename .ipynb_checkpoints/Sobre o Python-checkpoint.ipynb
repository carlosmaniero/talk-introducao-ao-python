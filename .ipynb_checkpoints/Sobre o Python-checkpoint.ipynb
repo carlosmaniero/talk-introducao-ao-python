{
 "cells": [
  {
   "cell_type": "markdown",
   "metadata": {},
   "source": [
    "# História do Python\n",
    "\n",
    "- Criado por um Holandês chamado Guido van Rossum\n",
    "- Teve seu código liberado em 1991\n",
    "- Criado no natal de 1989\n",
    "\n",
    "\n",
    "    \"Em dezembro de 1989, eu estava procurando por um projeto de programação de hobby para me manter ocupado durante a\n",
    "    semana do Natal. Meu escritória estaria fechado. Mas eu tinha um computador pessoal e nada mais em mãos. Eu decidi\n",
    "    escrever um interprador de scripts que vinha pensando ultimamente:\n",
    "\n",
    "    Um descendente da ABC que iria ser atrativa para desenvolvedores Unix/C.\n",
    "\n",
    "    Escolhi o nome Python por estar com um humor irreverente (e por ser um grande fã de Monty Python).\""
   ]
  },
  {
   "cell_type": "code",
   "execution_count": null,
   "metadata": {
    "collapsed": true
   },
   "outputs": [],
   "source": []
  }
 ],
 "metadata": {
  "kernelspec": {
   "display_name": "Python 3",
   "language": "python",
   "name": "python3"
  },
  "language_info": {
   "codemirror_mode": {
    "name": "ipython",
    "version": 3
   },
   "file_extension": ".py",
   "mimetype": "text/x-python",
   "name": "python",
   "nbconvert_exporter": "python",
   "pygments_lexer": "ipython3",
   "version": "3.4.3"
  }
 },
 "nbformat": 4,
 "nbformat_minor": 0
}
